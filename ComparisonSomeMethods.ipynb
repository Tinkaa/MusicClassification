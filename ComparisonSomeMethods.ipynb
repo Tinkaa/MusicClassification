{
 "cells": [
  {
   "cell_type": "code",
   "execution_count": 3,
   "metadata": {
    "collapsed": true
   },
   "outputs": [],
   "source": [
    "import numpy as np\n",
    "\n",
    "from sklearn.model_selection import KFold, cross_val_score\n",
    "from sklearn.linear_model import LogisticRegression\n",
    "from sklearn.neighbors import KNeighborsClassifier\n",
    "from sklearn.ensemble import RandomForestClassifier"
   ]
  },
  {
   "cell_type": "code",
   "execution_count": 4,
   "metadata": {},
   "outputs": [],
   "source": [
    "xtrain = np.loadtxt('Data/train_data.csv', delimiter=',')\n",
    "ytrain = np.loadtxt('Data/train_labels.csv', delimiter=',')\n",
    "xtest = np.loadtxt('Data/test_data.csv', delimiter=',')"
   ]
  },
  {
   "cell_type": "code",
   "execution_count": 5,
   "metadata": {
    "collapsed": true
   },
   "outputs": [],
   "source": [
    "#split training data\n",
    "k_fold = KFold(n_splits=5,shuffle=True)\n",
    "splitted=k_fold.split(xtrain) #use this one for all models so difference is not cause by diff in samples"
   ]
  },
  {
   "cell_type": "code",
   "execution_count": 6,
   "metadata": {
    "collapsed": true
   },
   "outputs": [],
   "source": [
    "#define randomforest\n",
    "clf = RandomForestClassifier(n_estimators=100,n_jobs=2, random_state=0)"
   ]
  },
  {
   "cell_type": "code",
   "execution_count": 7,
   "metadata": {},
   "outputs": [
    {
     "data": {
      "text/plain": [
       "[0.6128293241695304,\n",
       " 0.60137457044673537,\n",
       " 0.61741122565864837,\n",
       " 0.60665137614678899,\n",
       " 0.60665137614678899]"
      ]
     },
     "execution_count": 7,
     "metadata": {},
     "output_type": "execute_result"
    }
   ],
   "source": [
    "#cross val score randomforest\n",
    "[clf.fit(xtrain[train], ytrain[train]).score(xtrain[test], ytrain[test]) for train, test in k_fold.split(xtrain)]"
   ]
  },
  {
   "cell_type": "code",
   "execution_count": 8,
   "metadata": {
    "collapsed": true
   },
   "outputs": [],
   "source": [
    "#define nearest neighbors\n",
    "neigh = KNeighborsClassifier(n_neighbors=5)"
   ]
  },
  {
   "cell_type": "code",
   "execution_count": 9,
   "metadata": {},
   "outputs": [
    {
     "data": {
      "text/plain": [
       "[0.51890034364261173,\n",
       " 0.50057273768613975,\n",
       " 0.53150057273768614,\n",
       " 0.51490825688073394,\n",
       " 0.49885321100917429]"
      ]
     },
     "execution_count": 9,
     "metadata": {},
     "output_type": "execute_result"
    }
   ],
   "source": [
    "#cross val score nearest neighbors\n",
    "[neigh.fit(xtrain[train], ytrain[train]).score(xtrain[test], ytrain[test]) for train, test in k_fold.split(xtrain)]"
   ]
  },
  {
   "cell_type": "code",
   "execution_count": 10,
   "metadata": {
    "collapsed": true
   },
   "outputs": [],
   "source": [
    "#define logistic regression\n",
    "log=LogisticRegression()"
   ]
  },
  {
   "cell_type": "code",
   "execution_count": 11,
   "metadata": {},
   "outputs": [
    {
     "data": {
      "text/plain": [
       "[0.64490263459335628,\n",
       " 0.66781214203894612,\n",
       " 0.66895761741122561,\n",
       " 0.63761467889908252,\n",
       " 0.64564220183486243]"
      ]
     },
     "execution_count": 11,
     "metadata": {},
     "output_type": "execute_result"
    }
   ],
   "source": [
    "#cross val score logistic regression\n",
    "[log.fit(xtrain[train], ytrain[train]).score(xtrain[test], ytrain[test]) for train, test in k_fold.split(xtrain)]"
   ]
  },
  {
   "cell_type": "code",
   "execution_count": null,
   "metadata": {
    "collapsed": true
   },
   "outputs": [],
   "source": []
  }
 ],
 "metadata": {
  "kernelspec": {
   "display_name": "Python 3",
   "language": "python",
   "name": "python3"
  },
  "language_info": {
   "codemirror_mode": {
    "name": "ipython",
    "version": 3
   },
   "file_extension": ".py",
   "mimetype": "text/x-python",
   "name": "python",
   "nbconvert_exporter": "python",
   "pygments_lexer": "ipython3",
   "version": "3.6.1"
  }
 },
 "nbformat": 4,
 "nbformat_minor": 2
}
