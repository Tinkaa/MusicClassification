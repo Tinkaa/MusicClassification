{
 "cells": [
  {
   "cell_type": "code",
   "execution_count": 10,
   "metadata": {
    "collapsed": true
   },
   "outputs": [],
   "source": [
    "import numpy as np\n",
    "from numpy.polynomial import polynomial\n",
    "import pandas as pd\n",
    "\n",
    "from sklearn.linear_model import LogisticRegression\n",
    "from sklearn.linear_model import Ridge\n",
    "from sklearn.preprocessing import PolynomialFeatures\n",
    "from sklearn.pipeline import make_pipeline"
   ]
  },
  {
   "cell_type": "code",
   "execution_count": 2,
   "metadata": {
    "collapsed": true
   },
   "outputs": [],
   "source": [
    "xtrain = np.loadtxt('Data/train_data.csv', delimiter=',')\n",
    "ytrain = np.loadtxt('Data/train_labels.csv', delimiter=',')\n",
    "xtest = np.loadtxt('Data/test_data.csv', delimiter=',')"
   ]
  },
  {
   "cell_type": "code",
   "execution_count": 7,
   "metadata": {
    "collapsed": false
   },
   "outputs": [],
   "source": [
    "poly = PolynomialFeatures(2)\n",
    "xtrain_poly2 = poly.fit_transform(xtrain)\n",
    "xtest_poly2 = poly.fit_transform(xtest)"
   ]
  },
  {
   "cell_type": "code",
   "execution_count": 8,
   "metadata": {
    "collapsed": false
   },
   "outputs": [
    {
     "name": "stdout",
     "output_type": "stream",
     "text": [
      "(6544, 35245)\n"
     ]
    }
   ],
   "source": [
    "print(xtest_poly2.shape)"
   ]
  },
  {
   "cell_type": "code",
   "execution_count": 11,
   "metadata": {
    "collapsed": false
   },
   "outputs": [
    {
     "name": "stdout",
     "output_type": "stream",
     "text": [
      "0.739170295668\n"
     ]
    }
   ],
   "source": [
    "# !!!\n",
    "# 35k features are taking too much time to run in my computer!\n",
    "model = LogisticRegression()\n",
    "model = model.fit(xtrain_poly2, ytrain)\n",
    "print(model.score(xtrain_poly2, ytrain))\n",
    "ypred = model.predict(xtest_poly2)"
   ]
  },
  {
   "cell_type": "code",
   "execution_count": 12,
   "metadata": {
    "collapsed": true
   },
   "outputs": [],
   "source": [
    "subm = pd.DataFrame(ypred,columns=['Sample_label'])\n",
    "subm.index += 1\n",
    "subm = subm.astype(int)\n",
    "subm.to_csv('Solutions/poly_deg2_1111.csv',\n",
    "            index_label='Sample_id')"
   ]
  }
 ],
 "metadata": {
  "anaconda-cloud": {},
  "kernelspec": {
   "display_name": "Python [default]",
   "language": "python",
   "name": "python3"
  },
  "language_info": {
   "codemirror_mode": {
    "name": "ipython",
    "version": 3
   },
   "file_extension": ".py",
   "mimetype": "text/x-python",
   "name": "python",
   "nbconvert_exporter": "python",
   "pygments_lexer": "ipython3",
   "version": "3.5.2"
  }
 },
 "nbformat": 4,
 "nbformat_minor": 1
}
