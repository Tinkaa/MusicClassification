{
 "cells": [
  {
   "cell_type": "code",
   "execution_count": 1,
   "metadata": {
    "collapsed": true
   },
   "outputs": [],
   "source": [
    "import numpy as np\n",
    "import pandas as pd\n",
    "from sklearn.linear_model import LogisticRegression\n",
    "from sklearn.cross_validation import train_test_split\n",
    "from sklearn.preprocessing import StandardScaler\n",
    "from sklearn.feature_selection import RFE\n",
    "import matplotlib.pyplot as plt"
   ]
  },
  {
   "cell_type": "code",
   "execution_count": 18,
   "metadata": {
    "collapsed": false
   },
   "outputs": [
    {
     "name": "stderr",
     "output_type": "stream",
     "text": [
      "/Users/janfan/.pyenv/versions/anaconda3-4.2.0/lib/python3.5/site-packages/ipykernel/__main__.py:11: VisibleDeprecationWarning: using a non-integer number instead of an integer will result in an error in the future\n"
     ]
    }
   ],
   "source": [
    "xtrain_all = np.loadtxt('Data/train_data.csv', delimiter=',')\n",
    "ytrain_all = np.loadtxt('Data/train_labels.csv', delimiter=',')\n",
    "xtest = np.loadtxt('Data/test_data.csv', delimiter=',')\n",
    "scaler = StandardScaler()\n",
    "xtrain = scaler.fit_transform(xtrain_all)\n",
    "xtest = scaler.fit_transform(xtest)\n",
    "xtrain, xtrain2, ytrain, ytrain2 = train_test_split(xtrain_all, ytrain_all,\n",
    "                                                    test_size=0.20, random_state=42)\n",
    "\n",
    "m = xtrain.shape[0]\n",
    "chc = np.random.choice(m, m/10)\n",
    "xtrain_s = xtrain[chc,:]\n",
    "ytrain_s = ytrain[chc]"
   ]
  },
  {
   "cell_type": "code",
   "execution_count": 12,
   "metadata": {
    "collapsed": false
   },
   "outputs": [
    {
     "name": "stdout",
     "output_type": "stream",
     "text": [
      "(349, 264)\n",
      "(349,)\n"
     ]
    }
   ],
   "source": [
    "print(xtrain_s.shape)\n",
    "print(ytrain_s.shape)"
   ]
  },
  {
   "cell_type": "code",
   "execution_count": null,
   "metadata": {
    "collapsed": false
   },
   "outputs": [],
   "source": [
    "# line search on k, i.e. number of top features (k/264)\n",
    "for k in np.linspace(10, 220, 25):  \n",
    "    k = int(k)\n",
    "    model = LogisticRegression()\n",
    "    rfe = RFE(model, k, step=2)\n",
    "    fit = rfe.fit(xtrain_s, ytrain_s)\n",
    "    xtrain_feat_k = xtrain[:,fit.support_]\n",
    "    xtrain2_feat_k = xtrain2[:,fit.support_]\n",
    "    model_feat_k = LogisticRegression()\n",
    "    fit_feat_k = model_feat_k.fit(xtrain_feat_k, ytrain)\n",
    "    print('number of top features: ' + str(k))\n",
    "    print(fit_feat_k.score(xtrain2_feat_k, ytrain2))"
   ]
  },
  {
   "cell_type": "code",
   "execution_count": 17,
   "metadata": {
    "collapsed": false
   },
   "outputs": [
    {
     "name": "stdout",
     "output_type": "stream",
     "text": [
      "number of top features: 158\n",
      "0.636884306987\n"
     ]
    }
   ],
   "source": [
    "k = 158\n",
    "model = LogisticRegression()\n",
    "rfe = RFE(model, k, step=2)\n",
    "fit = rfe.fit(xtrain_s, ytrain_s)\n",
    "model_feat_k = LogisticRegression()\n",
    "fit_feat_k = model_feat_k.fit(xtrain[:,fit.support_], ytrain)\n",
    "print('number of top features: ' + str(k))\n",
    "print(fit_feat_k.score(xtrain2[:,fit.support_], ytrain2))"
   ]
  },
  {
   "cell_type": "code",
   "execution_count": 15,
   "metadata": {
    "collapsed": false
   },
   "outputs": [
    {
     "name": "stdout",
     "output_type": "stream",
     "text": [
      "number of top features: 158\n",
      "0.679119871648\n"
     ]
    },
    {
     "data": {
      "text/plain": [
       "array([  4.,   4.,   8., ...,  10.,   4.,   8.])"
      ]
     },
     "execution_count": 15,
     "metadata": {},
     "output_type": "execute_result"
    }
   ],
   "source": [
    "k = 158\n",
    "model = LogisticRegression()\n",
    "rfe = RFE(model, k, step=2)\n",
    "fit = rfe.fit(xtrain_s, ytrain_s)\n",
    "\n",
    "model_feat_k = LogisticRegression()\n",
    "fit_feat_k = model_feat_k.fit(xtrain_all[:,fit.support_], ytrain_all)\n",
    "\n",
    "print('number of top features: ' + str(k))\n",
    "print(fit_feat_k.score(xtrain_all[:,fit.support_], ytrain_all))\n",
    "fit_feat_k.predict(xtest[:,fit.support_])"
   ]
  },
  {
   "cell_type": "code",
   "execution_count": 16,
   "metadata": {
    "collapsed": true
   },
   "outputs": [],
   "source": [
    "ypred = fit_feat_k.predict(xtest[:,fit.support_])\n",
    "subm = pd.DataFrame(ypred, columns=['Sample_label'])\n",
    "subm.index += 1\n",
    "subm = subm.astype(int)\n",
    "subm.to_csv('Solutions/logistic_featureSelection_2011.csv',\n",
    "            index_label='Sample_id')"
   ]
  }
 ],
 "metadata": {
  "anaconda-cloud": {},
  "kernelspec": {
   "display_name": "Python [default]",
   "language": "python",
   "name": "python3"
  }
 },
 "nbformat": 4,
 "nbformat_minor": 1
}
