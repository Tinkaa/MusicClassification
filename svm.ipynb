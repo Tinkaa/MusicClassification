{
 "cells": [
  {
   "cell_type": "markdown",
   "metadata": {},
   "source": [
    "## Notes\n",
    "\n",
    "From: http://scikit-learn.org/stable/modules/svm.html.\n",
    "\n",
    "`SVC` and `NuSVC` are similar methods, but accept slightly different sets of parameters and have different mathematical formulations.\n",
    "\n",
    "`NuSVC`, Nu-Support Vector Classification, similar to SVC but uses a parameter to control the number of support vectors.\n",
    "\n",
    "On the other hand, `LinearSVC` is another implementation of Support Vector Classification for the case of a linear kernel. Note that LinearSVC does not accept keyword `kernel`, as this is assumed to be linear.\n",
    "\n",
    "SVC and NuSVC implement the “one-against-one” approach for multi-class classification. If n_class is the number of classes, then $n_class * (n_class - 1) / 2$ classifiers are constructed and each one trains data from two classes."
   ]
  },
  {
   "cell_type": "code",
   "execution_count": 3,
   "metadata": {},
   "outputs": [],
   "source": [
    "import numpy as np\n",
    "import pandas as pd\n",
    "import matplotlib.pyplot as plt\n",
    "from sklearn.cross_validation import train_test_split, cross_val_score\n",
    "from sklearn.preprocessing import StandardScaler\n",
    "from sklearn import svm\n",
    "from sklearn.model_selection import cross_val_predict\n",
    "from sklearn.metrics import confusion_matrix\n",
    "import itertools\n",
    "from plot_confusion import plot_confusion_matrix\n",
    "%matplotlib inline"
   ]
  },
  {
   "cell_type": "code",
   "execution_count": 5,
   "metadata": {
    "collapsed": true
   },
   "outputs": [],
   "source": [
    "xtrain = np.loadtxt('Data/train_data.csv', delimiter=',')\n",
    "ytrain = np.loadtxt('Data/train_labels.csv', delimiter=',')\n",
    "xtest = np.loadtxt('Data/test_data.csv', delimiter=',')\n",
    "scaler = StandardScaler()\n",
    "xtrain = scaler.fit_transform(xtrain)\n",
    "xtest = scaler.fit_transform(xtest)\n",
    "\n",
    "m = xtrain.shape[0]\n",
    "chc = np.random.choice(m, int(m/5))\n",
    "xtrain_s = xtrain[chc,:]\n",
    "ytrain_s = ytrain[chc]"
   ]
  },
  {
   "cell_type": "code",
   "execution_count": 6,
   "metadata": {},
   "outputs": [
    {
     "name": "stdout",
     "output_type": "stream",
     "text": [
      "(872,)\n"
     ]
    },
    {
     "data": {
      "image/png": "[encoded data removed]",
      "text/plain": [
       "<matplotlib.figure.Figure at 0x7ff0cc32c588>"
      ]
     },
     "metadata": {},
     "output_type": "display_data"
    }
   ],
   "source": [
    "print(ytrain_s.shape)\n",
    "plt.hist(ytrain_s)\n",
    "plt.show()"
   ]
  },
  {
   "cell_type": "code",
   "execution_count": 15,
   "metadata": {},
   "outputs": [
    {
     "name": "stdout",
     "output_type": "stream",
     "text": [
      "0.909465963786\n"
     ]
    }
   ],
   "source": [
    "C_ = 2.9\n",
    "#the probability is set to true here to calculate the probabilities per class. However, this slows down the computation!\n",
    "clf = svm.SVC(decision_function_shape='ovo', random_state=42, C=C_,probability=True)\n",
    "fit = clf.fit(xtrain, ytrain)\n",
    "print(fit.score(xtrain, ytrain))\n",
    "ypred = fit.predict(xtest)"
   ]
  },
  {
   "cell_type": "code",
   "execution_count": 16,
   "metadata": {
    "collapsed": true
   },
   "outputs": [],
   "source": [
    "#compute the predicted why based on five-fold cross validation\n",
    "y_pred_cross = cross_val_predict(clf,xtrain,ytrain,cv=5)"
   ]
  },
  {
   "cell_type": "code",
   "execution_count": 17,
   "metadata": {
    "collapsed": true
   },
   "outputs": [],
   "source": [
    "scores = cross_val_score(clf, xtrain, ytrain, cv=5).mean()"
   ]
  },
  {
   "cell_type": "code",
   "execution_count": 18,
   "metadata": {},
   "outputs": [
    {
     "name": "stdout",
     "output_type": "stream",
     "text": [
      "0.662830016409\n"
     ]
    }
   ],
   "source": [
    "print(scores)"
   ]
  },
  {
   "cell_type": "code",
   "execution_count": 19,
   "metadata": {},
   "outputs": [],
   "source": [
    "ypred_prob=clf.predict_proba(xtest)"
   ]
  },
  {
   "cell_type": "code",
   "execution_count": 25,
   "metadata": {},
   "outputs": [
    {
     "data": {
      "text/plain": [
       "array([[  8.30846840e-02,   6.03065251e-02,   6.45376022e-01, ...,\n",
       "          9.71142541e-04,   1.34634700e-02,   3.27572826e-03],\n",
       "       [  6.68066036e-02,   2.74089267e-02,   2.40210094e-01, ...,\n",
       "          4.35738351e-03,   4.23626119e-01,   7.96581119e-03],\n",
       "       [  8.23529446e-01,   1.06029518e-02,   1.55923858e-03, ...,\n",
       "          4.90116269e-02,   6.69707034e-04,   9.72011369e-03],\n",
       "       ..., \n",
       "       [  5.86106590e-01,   9.35879307e-02,   2.73903703e-02, ...,\n",
       "          1.38027268e-01,   3.32619706e-03,   4.53644399e-02],\n",
       "       [  2.21018207e-02,   7.03911726e-02,   8.92227739e-01, ...,\n",
       "          4.93259856e-04,   1.82050181e-03,   7.52466825e-04],\n",
       "       [  6.15239452e-01,   2.82725301e-02,   5.95615348e-03, ...,\n",
       "          1.06628355e-01,   2.36492714e-03,   2.25500283e-02]])"
      ]
     },
     "execution_count": 25,
     "metadata": {},
     "output_type": "execute_result"
    }
   ],
   "source": [
    "ypred_prob"
   ]
  },
  {
   "cell_type": "code",
   "execution_count": 24,
   "metadata": {},
   "outputs": [
    {
     "data": {
      "text/plain": [
       "array([ 3.,  9.,  1., ...,  1.,  3.,  1.])"
      ]
     },
     "execution_count": 24,
     "metadata": {},
     "output_type": "execute_result"
    }
   ],
   "source": [
    "ypred"
   ]
  },
  {
   "cell_type": "code",
   "execution_count": 26,
   "metadata": {},
   "outputs": [
    {
     "data": {
      "text/plain": [
       "array([3, 9, 1, ..., 1, 3, 1])"
      ]
     },
     "execution_count": 26,
     "metadata": {},
     "output_type": "execute_result"
    }
   ],
   "source": [
    "np.argmax(ypred_prob,axis=1)+1"
   ]
  },
  {
   "cell_type": "code",
   "execution_count": 27,
   "metadata": {
    "collapsed": true
   },
   "outputs": [],
   "source": [
    "#make a submissson for the log loss\n",
    "subm = pd.DataFrame(ypred_prob,columns=['Class_'+str(i) for i in range(1,11)])\n",
    "#round was to test if the score changes, but it doesn't\n",
    "subm=subm.round(4)\n",
    "subm.index += 1\n",
    "subm.to_csv('Solutions/probabilities_svm_2411.csv',\n",
    "            index_label='Sample_id')"
   ]
  },
  {
   "cell_type": "code",
   "execution_count": 11,
   "metadata": {
    "collapsed": true
   },
   "outputs": [],
   "source": [
    "conf_mat = confusion_matrix(ytrain,y_pred_cross)"
   ]
  },
  {
   "cell_type": "code",
   "execution_count": 13,
   "metadata": {
    "scrolled": true
   },
   "outputs": [
    {
     "name": "stdout",
     "output_type": "stream",
     "text": [
      "Normalized confusion matrix\n",
      "[[  8.98530762e-01   4.95867769e-02   8.72359963e-03   7.80532599e-03\n",
      "    5.50964187e-03   1.92837466e-02   9.18273646e-04   6.88705234e-03\n",
      "    2.29568411e-03   4.59136823e-04]\n",
      " [  3.12297735e-01   6.16504854e-01   3.07443366e-02   1.77993528e-02\n",
      "    4.85436893e-03   1.29449838e-02   0.00000000e+00   1.61812298e-03\n",
      "    3.23624595e-03   0.00000000e+00]\n",
      " [  1.56441718e-01   9.20245399e-02   6.90184049e-01   6.13496933e-03\n",
      "    6.13496933e-03   3.37423313e-02   0.00000000e+00   0.00000000e+00\n",
      "    1.53374233e-02   0.00000000e+00]\n",
      " [  3.32015810e-01   9.48616601e-02   1.18577075e-02   4.82213439e-01\n",
      "    1.58102767e-02   5.13833992e-02   0.00000000e+00   3.95256917e-03\n",
      "    0.00000000e+00   7.90513834e-03]\n",
      " [  6.30841121e-01   5.60747664e-02   4.20560748e-02   2.80373832e-02\n",
      "    1.58878505e-01   3.73831776e-02   4.67289720e-03   1.86915888e-02\n",
      "    2.33644860e-02   0.00000000e+00]\n",
      " [  4.38461538e-01   4.61538462e-02   8.84615385e-02   4.61538462e-02\n",
      "    1.92307692e-02   3.26923077e-01   0.00000000e+00   1.15384615e-02\n",
      "    2.30769231e-02   0.00000000e+00]\n",
      " [  6.87943262e-01   7.80141844e-02   4.96453901e-02   4.96453901e-02\n",
      "    2.12765957e-02   4.25531915e-02   1.41843972e-02   2.12765957e-02\n",
      "    2.12765957e-02   1.41843972e-02]\n",
      " [  6.61538462e-01   5.12820513e-03   5.12820513e-03   1.02564103e-02\n",
      "    1.02564103e-02   1.53846154e-02   1.02564103e-02   2.76923077e-01\n",
      "    0.00000000e+00   5.12820513e-03]\n",
      " [  2.50000000e-01   7.60869565e-02   2.06521739e-01   0.00000000e+00\n",
      "    3.26086957e-02   9.78260870e-02   0.00000000e+00   1.08695652e-02\n",
      "    3.26086957e-01   0.00000000e+00]\n",
      " [  6.74418605e-01   2.32558140e-02   3.48837209e-02   1.16279070e-01\n",
      "    3.48837209e-02   1.16279070e-02   1.16279070e-02   5.81395349e-02\n",
      "    1.16279070e-02   2.32558140e-02]]\n"
     ]
    },
    {
     "data": {
      "image/png": "[encoded data removed]",
      "text/plain": [
       "<matplotlib.figure.Figure at 0x7ff0cc32c6d8>"
      ]
     },
     "metadata": {},
     "output_type": "display_data"
    }
   ],
   "source": [
    "plot_confusion_matrix(conf_mat, classes=[1,2,3,4,5,6,7,8,9,10], normalize=True,\n",
    "                      title='Normalized confusion matrix')"
   ]
  },
  {
   "cell_type": "code",
   "execution_count": null,
   "metadata": {
    "collapsed": true
   },
   "outputs": [],
   "source": []
  },
  {
   "cell_type": "code",
   "execution_count": 17,
   "metadata": {
    "collapsed": true
   },
   "outputs": [],
   "source": [
    "#try with best values from gridsearch on part of the data\n",
    "#-->apparently not better performance, only more overfitting. "
   ]
  },
  {
   "cell_type": "code",
   "execution_count": 9,
   "metadata": {
    "collapsed": true
   },
   "outputs": [],
   "source": [
    "C2=3.8421052631578947\n",
    "gamma2=0.005623413251903491"
   ]
  },
  {
   "cell_type": "code",
   "execution_count": 12,
   "metadata": {},
   "outputs": [
    {
     "name": "stdout",
     "output_type": "stream",
     "text": [
      "0.987393994958\n"
     ]
    }
   ],
   "source": [
    "clf2 = svm.SVC(decision_function_shape='ovo', random_state=42, C=C2,gamma=gamma2)\n",
    "fit2 = clf2.fit(xtrain, ytrain)\n",
    "print(fit2.score(xtrain, ytrain))"
   ]
  },
  {
   "cell_type": "code",
   "execution_count": 13,
   "metadata": {
    "collapsed": true
   },
   "outputs": [],
   "source": [
    "#compute the predicted why based on five-fold cross validation\n",
    "y_pred_cross2 = cross_val_predict(clf2,xtrain,ytrain,cv=5)"
   ]
  },
  {
   "cell_type": "code",
   "execution_count": 14,
   "metadata": {},
   "outputs": [
    {
     "name": "stdout",
     "output_type": "stream",
     "text": [
      "0.654576202864\n"
     ]
    }
   ],
   "source": [
    "scores = cross_val_score(clf2, xtrain, ytrain, cv=5).mean()\n",
    "print(scores)"
   ]
  },
  {
   "cell_type": "code",
   "execution_count": 15,
   "metadata": {
    "collapsed": true
   },
   "outputs": [],
   "source": [
    "conf_mat = confusion_matrix(ytrain,y_pred_cross)"
   ]
  },
  {
   "cell_type": "code",
   "execution_count": 16,
   "metadata": {
    "scrolled": true
   },
   "outputs": [
    {
     "name": "stdout",
     "output_type": "stream",
     "text": [
      "Normalized confusion matrix\n",
      "[[  8.98530762e-01   4.95867769e-02   8.72359963e-03   7.80532599e-03\n",
      "    5.50964187e-03   1.92837466e-02   9.18273646e-04   6.88705234e-03\n",
      "    2.29568411e-03   4.59136823e-04]\n",
      " [  3.12297735e-01   6.16504854e-01   3.07443366e-02   1.77993528e-02\n",
      "    4.85436893e-03   1.29449838e-02   0.00000000e+00   1.61812298e-03\n",
      "    3.23624595e-03   0.00000000e+00]\n",
      " [  1.56441718e-01   9.20245399e-02   6.90184049e-01   6.13496933e-03\n",
      "    6.13496933e-03   3.37423313e-02   0.00000000e+00   0.00000000e+00\n",
      "    1.53374233e-02   0.00000000e+00]\n",
      " [  3.32015810e-01   9.48616601e-02   1.18577075e-02   4.82213439e-01\n",
      "    1.58102767e-02   5.13833992e-02   0.00000000e+00   3.95256917e-03\n",
      "    0.00000000e+00   7.90513834e-03]\n",
      " [  6.30841121e-01   5.60747664e-02   4.20560748e-02   2.80373832e-02\n",
      "    1.58878505e-01   3.73831776e-02   4.67289720e-03   1.86915888e-02\n",
      "    2.33644860e-02   0.00000000e+00]\n",
      " [  4.38461538e-01   4.61538462e-02   8.84615385e-02   4.61538462e-02\n",
      "    1.92307692e-02   3.26923077e-01   0.00000000e+00   1.15384615e-02\n",
      "    2.30769231e-02   0.00000000e+00]\n",
      " [  6.87943262e-01   7.80141844e-02   4.96453901e-02   4.96453901e-02\n",
      "    2.12765957e-02   4.25531915e-02   1.41843972e-02   2.12765957e-02\n",
      "    2.12765957e-02   1.41843972e-02]\n",
      " [  6.61538462e-01   5.12820513e-03   5.12820513e-03   1.02564103e-02\n",
      "    1.02564103e-02   1.53846154e-02   1.02564103e-02   2.76923077e-01\n",
      "    0.00000000e+00   5.12820513e-03]\n",
      " [  2.50000000e-01   7.60869565e-02   2.06521739e-01   0.00000000e+00\n",
      "    3.26086957e-02   9.78260870e-02   0.00000000e+00   1.08695652e-02\n",
      "    3.26086957e-01   0.00000000e+00]\n",
      " [  6.74418605e-01   2.32558140e-02   3.48837209e-02   1.16279070e-01\n",
      "    3.48837209e-02   1.16279070e-02   1.16279070e-02   5.81395349e-02\n",
      "    1.16279070e-02   2.32558140e-02]]\n"
     ]
    },
    {
     "data": {
      "image/png": "[encoded data removed]",
      "text/plain": [
       "<matplotlib.figure.Figure at 0x7ff0a46b7d30>"
      ]
     },
     "metadata": {},
     "output_type": "display_data"
    }
   ],
   "source": [
    "plot_confusion_matrix(conf_mat, classes=[1,2,3,4,5,6,7,8,9,10], normalize=True,\n",
    "                      title='Normalized confusion matrix')"
   ]
  },
  {
   "cell_type": "code",
   "execution_count": 36,
   "metadata": {
    "collapsed": true
   },
   "outputs": [],
   "source": [
    "subm = pd.DataFrame(ypred, columns=['Sample_label'])\n",
    "subm.index += 1\n",
    "subm = subm.astype(int)\n",
    "subm.to_csv('Solutions/svm_C_2111.csv',\n",
    "            index_label='Sample_id')"
   ]
  },
  {
   "cell_type": "code",
   "execution_count": 30,
   "metadata": {},
   "outputs": [
    {
     "name": "stdout",
     "output_type": "stream",
     "text": [
      "0.877607151043\n"
     ]
    }
   ],
   "source": [
    "#Try with different weight for each class. This should be around same as over sampling.\n",
    "#Performs worse than class_weight=none (with these parameters)\n",
    "C_ = 2.9\n",
    "clf = svm.SVC(decision_function_shape='ovo', random_state=42, C=C_,class_weight='balanced')\n",
    "fit = clf.fit(xtrain, ytrain)\n",
    "print(fit.score(xtrain, ytrain))\n",
    "ypred = fit.predict(xtest)"
   ]
  },
  {
   "cell_type": "code",
   "execution_count": 31,
   "metadata": {},
   "outputs": [
    {
     "name": "stdout",
     "output_type": "stream",
     "text": [
      "0.623646740977\n"
     ]
    }
   ],
   "source": [
    "scores = cross_val_score(clf, xtrain, ytrain, cv=5).mean()\n",
    "print(scores)"
   ]
  },
  {
   "cell_type": "code",
   "execution_count": null,
   "metadata": {},
   "outputs": [],
   "source": [
    "for C_ in np.linspace(1.5, 3.5, 10):\n",
    "    clf = svm.SVC(decision_function_shape='ovo', random_state=42, C=C_)\n",
    "    scores = cross_val_score(clf, xtrain, ytrain, cv=5)\n",
    "    print('C={}, gamma=1/n_features'.format(C_))\n",
    "    print(\"Accuracy: %0.4f (+/- %0.4f)\" % (scores.mean(), scores.std()))"
   ]
  },
  {
   "cell_type": "code",
   "execution_count": 31,
   "metadata": {},
   "outputs": [
    {
     "name": "stdout",
     "output_type": "stream",
     "text": [
      "C=1, gamma=1/n_features\n",
      "Accuracy: 0.6372 (+/- 0.0084)\n",
      "C=2, gamma=1/n_features\n",
      "Accuracy: 0.6628 (+/- 0.0054)\n",
      "C=3, gamma=1/n_features\n",
      "Accuracy: 0.6624 (+/- 0.0072)\n",
      "C=4, gamma=1/n_features\n",
      "Accuracy: 0.6605 (+/- 0.0103)\n",
      "C=5, gamma=1/n_features\n",
      "Accuracy: 0.6569 (+/- 0.0124)\n",
      "C=6, gamma=1/n_features\n",
      "Accuracy: 0.6539 (+/- 0.0121)\n",
      "C=7, gamma=1/n_features\n",
      "Accuracy: 0.6566 (+/- 0.0139)\n",
      "C=8, gamma=1/n_features\n",
      "Accuracy: 0.6553 (+/- 0.0130)\n",
      "C=9, gamma=1/n_features\n",
      "Accuracy: 0.6537 (+/- 0.0115)\n"
     ]
    }
   ],
   "source": [
    "for C_ in range(1,10):\n",
    "    clf = svm.SVC(decision_function_shape='ovo', random_state=42, C=C_)\n",
    "    scores = cross_val_score(clf, xtrain, ytrain, cv=5)\n",
    "    print('C={}, gamma=1/n_features'.format(C_))\n",
    "    print(\"Accuracy: %0.4f (+/- %0.4f)\" % (scores.mean(), scores.std()))"
   ]
  },
  {
   "cell_type": "code",
   "execution_count": 27,
   "metadata": {},
   "outputs": [
    {
     "name": "stdout",
     "output_type": "stream",
     "text": [
      "Accuracy: 0.6232 (+/- 0.0288)\n"
     ]
    }
   ],
   "source": [
    "clf = svm.SVC(decision_function_shape='ovo', random_state=42)\n",
    "scores = cross_val_score(clf, xtrain_s, ytrain_s, cv=5)\n",
    "print(\"Accuracy: %0.4f (+/- %0.4f)\" % (scores.mean(), scores.std()))"
   ]
  },
  {
   "cell_type": "code",
   "execution_count": 28,
   "metadata": {},
   "outputs": [
    {
     "name": "stdout",
     "output_type": "stream",
     "text": [
      "C=1, gamma=1/n_features\n",
      "Accuracy: 0.6232 (+/- 0.0288)\n",
      "C=2, gamma=1/n_features\n",
      "Accuracy: 0.6565 (+/- 0.0341)\n",
      "C=3, gamma=1/n_features\n",
      "Accuracy: 0.6759 (+/- 0.0437)\n",
      "C=4, gamma=1/n_features\n",
      "Accuracy: 0.6827 (+/- 0.0429)\n",
      "C=5, gamma=1/n_features\n",
      "Accuracy: 0.6861 (+/- 0.0408)\n",
      "C=6, gamma=1/n_features\n",
      "Accuracy: 0.6872 (+/- 0.0400)\n",
      "C=7, gamma=1/n_features\n",
      "Accuracy: 0.6872 (+/- 0.0408)\n",
      "C=8, gamma=1/n_features\n",
      "Accuracy: 0.6860 (+/- 0.0386)\n",
      "C=9, gamma=1/n_features\n",
      "Accuracy: 0.6872 (+/- 0.0408)\n"
     ]
    }
   ],
   "source": [
    "for C_ in range(1,10):\n",
    "    clf = svm.SVC(decision_function_shape='ovo', random_state=42, C=C_)\n",
    "    scores = cross_val_score(clf, xtrain_s, ytrain_s, cv=5)\n",
    "    print('C={}, gamma=1/n_features'.format(C_))\n",
    "    print(\"Accuracy: %0.4f (+/- %0.4f)\" % (scores.mean(), scores.std()))"
   ]
  },
  {
   "cell_type": "code",
   "execution_count": 29,
   "metadata": {},
   "outputs": [
    {
     "name": "stdout",
     "output_type": "stream",
     "text": [
      "C=10, gamma=1/n_features\n",
      "Accuracy: 0.6861 (+/- 0.0409)\n",
      "C=15, gamma=1/n_features\n",
      "Accuracy: 0.6872 (+/- 0.0408)\n",
      "C=20, gamma=1/n_features\n",
      "Accuracy: 0.6872 (+/- 0.0408)\n",
      "C=25, gamma=1/n_features\n",
      "Accuracy: 0.6872 (+/- 0.0408)\n",
      "C=30, gamma=1/n_features\n",
      "Accuracy: 0.6872 (+/- 0.0408)\n",
      "C=35, gamma=1/n_features\n",
      "Accuracy: 0.6872 (+/- 0.0408)\n",
      "C=40, gamma=1/n_features\n",
      "Accuracy: 0.6872 (+/- 0.0408)\n",
      "C=45, gamma=1/n_features\n",
      "Accuracy: 0.6872 (+/- 0.0408)\n",
      "C=50, gamma=1/n_features\n",
      "Accuracy: 0.6872 (+/- 0.0408)\n",
      "C=55, gamma=1/n_features\n",
      "Accuracy: 0.6872 (+/- 0.0408)\n",
      "C=60, gamma=1/n_features\n",
      "Accuracy: 0.6872 (+/- 0.0408)\n",
      "C=65, gamma=1/n_features\n",
      "Accuracy: 0.6872 (+/- 0.0408)\n",
      "C=70, gamma=1/n_features\n",
      "Accuracy: 0.6872 (+/- 0.0408)\n",
      "C=75, gamma=1/n_features\n",
      "Accuracy: 0.6872 (+/- 0.0408)\n",
      "C=80, gamma=1/n_features\n",
      "Accuracy: 0.6872 (+/- 0.0408)\n",
      "C=85, gamma=1/n_features\n",
      "Accuracy: 0.6872 (+/- 0.0408)\n",
      "C=90, gamma=1/n_features\n",
      "Accuracy: 0.6872 (+/- 0.0408)\n",
      "C=95, gamma=1/n_features\n",
      "Accuracy: 0.6872 (+/- 0.0408)\n"
     ]
    }
   ],
   "source": [
    "for C_ in range(10,100,5):\n",
    "    clf = svm.SVC(decision_function_shape='ovo', random_state=42, C=C_)\n",
    "    scores = cross_val_score(clf, xtrain_s, ytrain_s, cv=5)\n",
    "    print('C={}, gamma=1/n_features'.format(C_))\n",
    "    print(\"Accuracy: %0.4f (+/- %0.4f)\" % (scores.mean(), scores.std()))"
   ]
  },
  {
   "cell_type": "code",
   "execution_count": 25,
   "metadata": {},
   "outputs": [
    {
     "name": "stdout",
     "output_type": "stream",
     "text": [
      "C=10, gamma=0.1\n",
      "Accuracy: 0.5920 (+/- 0.0264)\n",
      "C=10, gamma=1\n",
      "Accuracy: 0.5920 (+/- 0.0264)\n",
      "C=10, gamma=10\n",
      "Accuracy: 0.5920 (+/- 0.0264)\n",
      "C=10, gamma=100\n",
      "Accuracy: 0.5920 (+/- 0.0264)\n",
      "C=10, gamma=1000\n",
      "Accuracy: 0.5920 (+/- 0.0264)\n",
      "C=10, gamma=10000\n",
      "Accuracy: 0.5920 (+/- 0.0264)\n",
      "C=100, gamma=0.1\n",
      "Accuracy: 0.5920 (+/- 0.0264)\n",
      "C=100, gamma=1\n",
      "Accuracy: 0.5920 (+/- 0.0264)\n",
      "C=100, gamma=10\n",
      "Accuracy: 0.5920 (+/- 0.0264)\n",
      "C=100, gamma=100\n",
      "Accuracy: 0.5920 (+/- 0.0264)\n",
      "C=100, gamma=1000\n",
      "Accuracy: 0.5920 (+/- 0.0264)\n",
      "C=100, gamma=10000\n",
      "Accuracy: 0.5920 (+/- 0.0264)\n",
      "C=1000, gamma=0.1\n",
      "Accuracy: 0.5920 (+/- 0.0264)\n",
      "C=1000, gamma=1\n",
      "Accuracy: 0.5920 (+/- 0.0264)\n",
      "C=1000, gamma=10\n",
      "Accuracy: 0.5920 (+/- 0.0264)\n",
      "C=1000, gamma=100\n",
      "Accuracy: 0.5920 (+/- 0.0264)\n",
      "C=1000, gamma=1000\n",
      "Accuracy: 0.5920 (+/- 0.0264)\n",
      "C=1000, gamma=10000\n",
      "Accuracy: 0.5920 (+/- 0.0264)\n",
      "C=10000, gamma=0.1\n",
      "Accuracy: 0.5920 (+/- 0.0264)\n",
      "C=10000, gamma=1\n",
      "Accuracy: 0.5920 (+/- 0.0264)\n",
      "C=10000, gamma=10\n",
      "Accuracy: 0.5920 (+/- 0.0264)\n",
      "C=10000, gamma=100\n",
      "Accuracy: 0.5920 (+/- 0.0264)\n",
      "C=10000, gamma=1000\n",
      "Accuracy: 0.5920 (+/- 0.0264)\n",
      "C=10000, gamma=10000\n",
      "Accuracy: 0.5920 (+/- 0.0264)\n",
      "C=100000, gamma=0.1\n",
      "Accuracy: 0.5920 (+/- 0.0264)\n",
      "C=100000, gamma=1\n",
      "Accuracy: 0.5920 (+/- 0.0264)\n",
      "C=100000, gamma=10\n",
      "Accuracy: 0.5920 (+/- 0.0264)\n",
      "C=100000, gamma=100\n",
      "Accuracy: 0.5920 (+/- 0.0264)\n",
      "C=100000, gamma=1000\n",
      "Accuracy: 0.5920 (+/- 0.0264)\n",
      "C=100000, gamma=10000\n",
      "Accuracy: 0.5920 (+/- 0.0264)\n",
      "C=1000000, gamma=0.1\n",
      "Accuracy: 0.5920 (+/- 0.0264)\n",
      "C=1000000, gamma=1\n",
      "Accuracy: 0.5920 (+/- 0.0264)\n",
      "C=1000000, gamma=10\n",
      "Accuracy: 0.5920 (+/- 0.0264)\n",
      "C=1000000, gamma=100\n",
      "Accuracy: 0.5920 (+/- 0.0264)\n",
      "C=1000000, gamma=1000\n",
      "Accuracy: 0.5920 (+/- 0.0264)\n",
      "C=1000000, gamma=10000\n",
      "Accuracy: 0.5920 (+/- 0.0264)\n"
     ]
    }
   ],
   "source": [
    "for C_ in [10,100,1000,10000,100000,1000000]:\n",
    "    for gamma_ in [0.1,1,10,100,1000,10000]:\n",
    "        clf = svm.SVC(decision_function_shape='ovo', random_state=42, gamma=gamma_, C=C_)\n",
    "        scores = cross_val_score(clf, xtrain_s, ytrain_s, cv=5)\n",
    "        print('C={}, gamma={}'.format(C_, gamma_))\n",
    "        print(\"Accuracy: %0.4f (+/- %0.4f)\" % (scores.mean(), scores.std()))"
   ]
  },
  {
   "cell_type": "code",
   "execution_count": 16,
   "metadata": {},
   "outputs": [
    {
     "name": "stdout",
     "output_type": "stream",
     "text": [
      "[ 1.  1.  1. ...,  1.  3.  1.]\n"
     ]
    }
   ],
   "source": [
    "ypred = fit.predict(xtest)\n",
    "print(ypred)"
   ]
  },
  {
   "cell_type": "code",
   "execution_count": 8,
   "metadata": {},
   "outputs": [
    {
     "name": "stdout",
     "output_type": "stream",
     "text": [
      "C=10, gamma=0.1\n",
      "0.529209621993\n",
      "C=10, gamma=1\n",
      "0.529209621993\n",
      "C=10, gamma=10\n",
      "0.529209621993\n",
      "C=10, gamma=100\n",
      "0.529209621993\n",
      "C=10, gamma=1000\n",
      "0.529209621993\n",
      "C=10, gamma=10000\n",
      "0.529209621993\n",
      "C=100, gamma=0.1\n",
      "0.529209621993\n",
      "C=100, gamma=1\n",
      "0.529209621993\n",
      "C=100, gamma=10\n",
      "0.529209621993\n",
      "C=100, gamma=100\n",
      "0.529209621993\n",
      "C=100, gamma=1000\n",
      "0.529209621993\n",
      "C=100, gamma=10000\n",
      "0.529209621993\n",
      "C=1000, gamma=0.1\n",
      "0.529209621993\n",
      "C=1000, gamma=1\n",
      "0.529209621993\n",
      "C=1000, gamma=10\n",
      "0.529209621993\n",
      "C=1000, gamma=100\n",
      "0.529209621993\n",
      "C=1000, gamma=1000\n",
      "0.529209621993\n",
      "C=1000, gamma=10000\n",
      "0.529209621993\n",
      "C=10000, gamma=0.1\n",
      "0.529209621993\n",
      "C=10000, gamma=1\n",
      "0.529209621993\n",
      "C=10000, gamma=10\n",
      "0.529209621993\n",
      "C=10000, gamma=100\n",
      "0.529209621993\n",
      "C=10000, gamma=1000\n",
      "0.529209621993\n",
      "C=10000, gamma=10000\n",
      "0.529209621993\n",
      "C=100000, gamma=0.1\n",
      "0.529209621993\n",
      "C=100000, gamma=1\n",
      "0.529209621993\n",
      "C=100000, gamma=10\n",
      "0.529209621993\n",
      "C=100000, gamma=100\n",
      "0.529209621993\n",
      "C=100000, gamma=1000\n",
      "0.529209621993\n",
      "C=100000, gamma=10000\n",
      "0.529209621993\n",
      "C=1000000, gamma=0.1\n",
      "0.529209621993\n",
      "C=1000000, gamma=1\n",
      "0.529209621993\n",
      "C=1000000, gamma=10\n",
      "0.529209621993\n",
      "C=1000000, gamma=100\n",
      "0.529209621993\n",
      "C=1000000, gamma=1000\n",
      "0.529209621993\n",
      "C=1000000, gamma=10000\n",
      "0.529209621993\n"
     ]
    }
   ],
   "source": [
    "# ovo’, ‘ovr’, default=’ovr’\n",
    "#+one-vs-rest (‘ovr’) \n",
    "#+one-vs-one (‘ovo’)\n",
    "\n",
    "# line search on gamma and C\n",
    "for C_ in [10,100,1000,10000,100000,1000000]:\n",
    "    for gamma_ in [0.1,1,10,100,1000,10000]:\n",
    "        clf = svm.SVC(decision_function_shape='ovo', random_state=42, gamma=gamma_, C=C_)\n",
    "        fit = clf.fit(xtrain_s, ytrain_s)\n",
    "        print('C={}, gamma={}'.format(C_, gamma_))\n",
    "        print(fit.score(xtrain2, ytrain2))"
   ]
  },
  {
   "cell_type": "code",
   "execution_count": 5,
   "metadata": {
    "collapsed": true
   },
   "outputs": [],
   "source": [
    "ypred = clf.predict(xtest)"
   ]
  },
  {
   "cell_type": "code",
   "execution_count": 6,
   "metadata": {},
   "outputs": [
    {
     "name": "stdout",
     "output_type": "stream",
     "text": [
      "(6544,)\n",
      "[ 1.  1.  1.  1.  1.  1.  1.  1.  1.  1.  1.  1.  1.  1.  1.  1.  1.  1.\n",
      "  1.  1.  1.  1.  1.  1.  1.  1.  1.  1.  1.  1.  1.  1.  1.  1.  1.  1.\n",
      "  1.  1.  1.  1.  1.  1.  1.  1.  1.  1.  1.  1.  1.  1.  1.  1.  1.  1.\n",
      "  1.  1.  1.  1.  1.  1.  1.  1.  1.  1.  1.  1.  1.  1.  1.  1.  1.  1.\n",
      "  1.  1.  1.  1.  1.  1.  1.  1.  1.  1.  1.  1.  1.  1.  1.  1.  1.  1.\n",
      "  1.  1.  1.  1.  1.  1.  1.  1.  1.  1.]\n",
      "[ 1.  1.  1.  1.  1.  1.  1.  1.  1.  1.  1.  1.  1.  1.  1.  1.  1.  1.\n",
      "  1.  1.  1.  1.  1.  1.  1.  1.  1.  1.  1.  1.  1.  1.  1.  1.  1.  1.\n",
      "  1.  1.  1.  1.  1.  1.  1.  1.  1.  1.  1.  1.  1.  1.  1.  1.  1.  1.\n",
      "  1.  1.  1.  1.  1.  1.  1.  1.  1.  1.  1.  1.  1.  1.  1.  1.  1.  1.\n",
      "  1.  1.  1.  1.  1.  1.  1.  1.  1.  1.  1.  1.  1.  1.  1.  1.  1.  1.\n",
      "  1.  1.  1.  1.  1.  1.  1.  1.  1.  1.]\n"
     ]
    }
   ],
   "source": [
    "print(ypred.shape)\n",
    "print(ypred[0:100])\n",
    "print(ypred[-100:])"
   ]
  },
  {
   "cell_type": "code",
   "execution_count": 7,
   "metadata": {},
   "outputs": [
    {
     "name": "stdout",
     "output_type": "stream",
     "text": [
      "[ 1.  1.  1.  1.  1.  1.  1.  1.  1.  1.  1.  1.  1.  1.  1.  1.  1.  1.\n",
      "  1.  1.  1.  1.  1.  1.  1.  1.  1.  1.  1.  1.  1.  1.  1.  1.  1.  1.\n",
      "  1.  1.  1.  1.  1.  1.  1.  1.  1.  1.  1.  1.  1.  1.  1.  1.  1.  1.\n",
      "  1.  1.  1.  1.  1.  1.  1.  1.  1.  1.  1.  1.  1.  1.  1.  1.  1.  1.\n",
      "  1.  1.  1.  1.  1.  1.  1.  1.  1.  1.  1.  1.  1.  1.  1.  1.  1.  1.\n",
      "  1.  1.  1.  1.  1.  1.  1.  1.  1.  1.]\n",
      "[ 1.  1.  1.  1.  1.  1.  1.  1.  1.  1.  1.  1.  1.  1.  1.  1.  1.  1.\n",
      "  1.  1.  1.  1.  1.  1.  1.  1.  1.  1.  1.  1.  1.  1.  1.  1.  1.  1.\n",
      "  1.  1.  1.  1.  1.  1.  1.  1.  1.  1.  1.  1.  1.  1.  1.  1.  1.  1.\n",
      "  1.  1.  1.  1.  1.  1.  1.  1.  1.  1.  1.  1.  1.  1.  1.  1.  1.  1.\n",
      "  1.  1.  1.  1.  1.  1.  1.  1.  1.  1.  1.  1.  1.  1.  1.  1.  1.  1.\n",
      "  1.  1.  1.  1.  1.  1.  1.  1.  1.  1.]\n"
     ]
    }
   ],
   "source": [
    "# try both C=10,100, all gives 1.\n",
    "clf = svm.SVC(C=100,decision_function_shape='ovo')\n",
    "clf.fit(xtrain, ytrain)\n",
    "ypred = clf.predict(xtest)\n",
    "print(ypred[0:100])\n",
    "print(ypred[-100:])"
   ]
  },
  {
   "cell_type": "code",
   "execution_count": 22,
   "metadata": {
    "collapsed": true
   },
   "outputs": [],
   "source": [
    "lin=svm.SVC(kernel='linear')"
   ]
  },
  {
   "cell_type": "code",
   "execution_count": null,
   "metadata": {
    "collapsed": true
   },
   "outputs": [],
   "source": [
    "#works but gives bad score. Also takes long to run, but have the feeling this is due to my laptop\n",
    "lin.fit(xtrain,ytrain)\n",
    "ypredlin=lin.predict(xtest)\n",
    "print(ypredlin)"
   ]
  },
  {
   "cell_type": "code",
   "execution_count": null,
   "metadata": {
    "collapsed": true
   },
   "outputs": [],
   "source": [
    "pol=svm.SVC(kernel='poly',degree=3)"
   ]
  },
  {
   "cell_type": "code",
   "execution_count": null,
   "metadata": {
    "collapsed": true
   },
   "outputs": [],
   "source": [
    "#same as linear, works but not so good result\n",
    "#so guess we have to use rbf\n",
    "pol.fit(xtrain,ytrain)\n",
    "ypredpol=pol.predict(xtest)\n",
    "print(ypredpol)"
   ]
  },
  {
   "cell_type": "code",
   "execution_count": null,
   "metadata": {
    "collapsed": true
   },
   "outputs": [],
   "source": [
    "#nice articel explaining the influence of C and gamma for rbf\n",
    "#https://chrisalbon.com/machine-learning/svc_parameters_using_rbf_kernel.html"
   ]
  },
  {
   "cell_type": "code",
   "execution_count": 10,
   "metadata": {
    "collapsed": true
   },
   "outputs": [],
   "source": [
    "#tried some optunity tuning but it took very long. \n",
    "#important to note is that it cannot really do it for multiple classes. \n",
    "#but can try it for two classes, e.g. all pop and non-pop songs. \n",
    "#example: http://optunity.readthedocs.io/en/latest/notebooks/notebooks/sklearn-svc.html"
   ]
  }
 ],
 "metadata": {
  "anaconda-cloud": {},
  "kernelspec": {
   "display_name": "Python 3",
   "language": "python",
   "name": "python3"
  },
  "language_info": {
   "codemirror_mode": {
    "name": "ipython",
    "version": 3
   },
   "file_extension": ".py",
   "mimetype": "text/x-python",
   "name": "python",
   "nbconvert_exporter": "python",
   "pygments_lexer": "ipython3",
   "version": "3.6.1"
  }
 },
 "nbformat": 4,
 "nbformat_minor": 1
}
